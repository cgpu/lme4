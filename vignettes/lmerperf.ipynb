{
 "cells": [
  {
   "cell_type": "raw",
   "metadata": {},
   "source": [
    "---\n",
    "title: \"lmer Performance tips\"\n",
    "---"
   ]
  },
  {
   "cell_type": "markdown",
   "metadata": {},
   "source": [
    "<!--\n",
    "%\\VignetteEngine{knitr::rmarkdown}\n",
    "%\\VignetteIndexEntry{lmer Performance Tips}\n",
    "-->"
   ]
  },
  {
   "cell_type": "code",
   "execution_count": 1,
   "metadata": {
    "message": false,
    "name": "opts",
    "tags": [
     "remove_input"
    ]
   },
   "outputs": [],
   "source": [
    "library(\"knitr\")\n",
    "knitr::opts_chunk$set(\n",
    "  eval = FALSE\n",
    ")"
   ]
  },
  {
   "cell_type": "code",
   "execution_count": 2,
   "metadata": {
    "message": false,
    "name": "loadpkg"
   },
   "outputs": [
    {
     "name": "stderr",
     "output_type": "stream",
     "text": [
      "Loading required package: Matrix\n",
      "\n"
     ]
    }
   ],
   "source": [
    "library(\"lme4\")"
   ]
  },
  {
   "cell_type": "markdown",
   "metadata": {},
   "source": [
    "# lme4 Performance Tips\n",
    "\n",
    "- use control = `[g]lmerControl(calc.derivs = FALSE)` to turn off the time\n",
    "  consuming derivative calculation that is performed after the optmization\n",
    "  is finished, e.g."
   ]
  },
  {
   "cell_type": "code",
   "execution_count": 3,
   "metadata": {
    "eval": false,
    "lines_to_next_cell": 0,
    "name": "noderivs"
   },
   "outputs": [
    {
     "data": {
      "text/plain": [
       "Linear mixed model fit by REML ['lmerMod']\n",
       "Formula: y ~ service * dept + (1 | s) + (1 | d)\n",
       "   Data: InstEval\n",
       "REML criterion at convergence: 237688.7\n",
       "Random effects:\n",
       " Groups   Name        Std.Dev.\n",
       " s        (Intercept) 0.3250  \n",
       " d        (Intercept) 0.5122  \n",
       " Residual             1.1768  \n",
       "Number of obs: 73421, groups:  s, 2972; d, 1128\n",
       "Fixed Effects:\n",
       "    (Intercept)         service1            dept5           dept10  \n",
       "       3.229529         0.252047         0.129657        -0.176588  \n",
       "         dept12            dept6            dept7            dept4  \n",
       "       0.051739         0.034960         0.145994         0.151835  \n",
       "          dept8            dept9           dept14            dept1  \n",
       "       0.104311         0.044171         0.051898         0.046482  \n",
       "          dept3           dept11            dept2   service1:dept5  \n",
       "       0.056541         0.059799         0.005642        -0.180963  \n",
       "service1:dept10  service1:dept12   service1:dept6   service1:dept7  \n",
       "       0.018274        -0.282072        -0.494412        -0.391939  \n",
       " service1:dept4   service1:dept8   service1:dept9  service1:dept14  \n",
       "      -0.278489        -0.189410        -0.499722        -0.497012  \n",
       " service1:dept1   service1:dept3  service1:dept11   service1:dept2  \n",
       "      -0.239768        -0.223406        -0.517116        -0.384438  "
      ]
     },
     "metadata": {},
     "output_type": "display_data"
    }
   ],
   "source": [
    "lmer(y ~ service * dept + (1|s) + (1|d), InstEval,\n",
    "     control = lmerControl(calc.derivs = FALSE))"
   ]
  },
  {
   "cell_type": "markdown",
   "metadata": {},
   "source": [
    "Note that this will disable some of the convergence tests, as well as\n",
    "(for `glmer` only) making `lme4` use a less\n",
    "accurate approximation to compute the standard errors of the fixed effects.\n",
    "\n",
    "- models that only contain random effects of the form `(1|f)` use better \n",
    "  starting values for the optimization which in tests have cut run time in \n",
    "  certain examples by up to 50% relative to the previous default starting \n",
    "  values.  The `InstEval` fit shown above is one such example.\n",
    "\n",
    "- `lmer` uses the `bobyqa` optimizer from the `minqa` package by default;\n",
    "  `glmer` uses a combination of Nelder-Mead and `bobyqa`.  If you\n",
    "  are specifying the `optimx` package optimizer, note that by \n",
    "  default `optimx` performs \n",
    "  certain time-consuming processing at the beginning and end which can be \n",
    "  turned off as follows (here we have specified the `\"nlminb\"` method but this \n",
    "  applies to any `optimx` method):"
   ]
  },
  {
   "cell_type": "markdown",
   "metadata": {},
   "source": [
    "- the `nloptr` package supports a variety of algorithms and importantly \n",
    "  supports additional stopping criteria which can stop the optimization\n",
    "  earlier if it believes it has reached the optimum.\n",
    "  For many problems using these stopping \n",
    "  criteria will result in the \n",
    "  same solution or nearly the same solution as the default optimizer but in\n",
    "  less time (up to 50 percent savings have been observed); however, in\n",
    "  some cases it may stop prematurely giving suboptimal results.\n",
    "  (In the example below omit `print_level` if output tracing is not desired and \n",
    "  increase `maxeval` if the optimization requires more than 1000 iterations\n",
    "  and you wish to allow it to proceed.)"
   ]
  },
  {
   "cell_type": "code",
   "execution_count": 5,
   "metadata": {
    "eval": false,
    "name": "nlopt"
   },
   "outputs": [
    {
     "data": {
      "text/plain": [
       "Linear mixed model fit by REML ['lmerMod']\n",
       "Formula: y ~ service * dept + (1 | s) + (1 | d)\n",
       "   Data: InstEval\n",
       "REML criterion at convergence: 237688.7\n",
       "Random effects:\n",
       " Groups   Name        Std.Dev.\n",
       " s        (Intercept) 0.3250  \n",
       " d        (Intercept) 0.5122  \n",
       " Residual             1.1768  \n",
       "Number of obs: 73421, groups:  s, 2972; d, 1128\n",
       "Fixed Effects:\n",
       "    (Intercept)         service1            dept5           dept10  \n",
       "       3.229529         0.252047         0.129657        -0.176588  \n",
       "         dept12            dept6            dept7            dept4  \n",
       "       0.051739         0.034960         0.145994         0.151835  \n",
       "          dept8            dept9           dept14            dept1  \n",
       "       0.104311         0.044171         0.051898         0.046482  \n",
       "          dept3           dept11            dept2   service1:dept5  \n",
       "       0.056541         0.059799         0.005642        -0.180963  \n",
       "service1:dept10  service1:dept12   service1:dept6   service1:dept7  \n",
       "       0.018274        -0.282072        -0.494412        -0.391939  \n",
       " service1:dept4   service1:dept8   service1:dept9  service1:dept14  \n",
       "      -0.278489        -0.189410        -0.499722        -0.497012  \n",
       " service1:dept1   service1:dept3  service1:dept11   service1:dept2  \n",
       "      -0.239768        -0.223406        -0.517116        -0.384438  "
      ]
     },
     "metadata": {},
     "output_type": "display_data"
    }
   ],
   "source": [
    "nlopt <- function(par, fn, lower, upper, control) {\n",
    "    .nloptr <<- res <- nloptr(par, fn, lb = lower, ub = upper, \n",
    "        opts = list(algorithm = \"NLOPT_LN_BOBYQA\", print_level = 1,\n",
    "        maxeval = 1000, xtol_abs = 1e-6, ftol_abs = 1e-6))\n",
    "    list(par = res$solution,\n",
    "         fval = res$objective,\n",
    "         conv = if (res$status > 0) 0 else res$status,\n",
    "         message = res$message\n",
    "    )\n",
    "}\n",
    "lmer(y ~ service * dept + (1|s) + (1|d), InstEval,\n",
    "    control = lmerControl(optimizer = \"nloptwrap\", calc.derivs = FALSE))"
   ]
  },
  {
   "cell_type": "code",
   "execution_count": null,
   "metadata": {},
   "outputs": [],
   "source": []
  }
 ],
 "metadata": {
  "jupytext": {
   "cell_metadata_filter": "message,name,tags,eval,-all",
   "main_language": "R",
   "notebook_metadata_filter": "-all"
  },
  "kernelspec": {
   "display_name": "R",
   "language": "R",
   "name": "ir"
  },
  "language_info": {
   "codemirror_mode": "r",
   "file_extension": ".r",
   "mimetype": "text/x-r-source",
   "name": "R",
   "pygments_lexer": "r",
   "version": "3.6.1"
  }
 },
 "nbformat": 4,
 "nbformat_minor": 4
}
